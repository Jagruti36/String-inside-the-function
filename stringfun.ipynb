{
 "cells": [
  {
   "cell_type": "code",
   "execution_count": 1,
   "id": "a2febd93",
   "metadata": {},
   "outputs": [
    {
     "name": "stdout",
     "output_type": "stream",
     "text": [
      "The original string is: 1234abcd\n",
      "The reverse string is: dcba4321 \n"
     ]
    }
   ],
   "source": [
    "def reverse(str1):\n",
    "    string = \" \"\n",
    "    for i in str1:\n",
    "        string = i + string\n",
    "    return string\n",
    "str1 = \"1234abcd\"\n",
    "print(\"The original string is:\",str1)\n",
    "print(\"The reverse string is:\", reverse(str1)) "
   ]
  },
  {
   "cell_type": "code",
   "execution_count": null,
   "id": "90c7644f",
   "metadata": {},
   "outputs": [],
   "source": []
  }
 ],
 "metadata": {
  "kernelspec": {
   "display_name": "Python 3",
   "language": "python",
   "name": "python3"
  },
  "language_info": {
   "codemirror_mode": {
    "name": "ipython",
    "version": 3
   },
   "file_extension": ".py",
   "mimetype": "text/x-python",
   "name": "python",
   "nbconvert_exporter": "python",
   "pygments_lexer": "ipython3",
   "version": "3.8.8"
  }
 },
 "nbformat": 4,
 "nbformat_minor": 5
}
